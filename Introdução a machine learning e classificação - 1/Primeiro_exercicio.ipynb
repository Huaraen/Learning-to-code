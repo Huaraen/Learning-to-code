{
 "cells": [
  {
   "cell_type": "code",
   "execution_count": null,
   "metadata": {},
   "outputs": [],
   "source": [
    "import pandas as pd\n",
    "\n",
    "uri = \"https://gist.githubusercontent.com/guilhermesilveira/2d2efa37d66b6c84a722ea627a897ced/raw/10968b997d885cbded1c92938c7a9912ba41c615/tracking.csv\"\n",
    "dados = pd.read_csv(uri)\n",
    "\n",
    "dados.head()"
   ]
  },
  {
   "cell_type": "code",
   "execution_count": null,
   "metadata": {},
   "outputs": [],
   "source": [
    "x = dados[[\"home\", \"how_it_works\", \"contact\"]]\n",
    "y = dados[\"bought\"] #quando é só uma coluna, não precisa do colchetes extra\n",
    "y.head() # imprimindo só os 5 primeiros"
   ]
  },
  {
   "cell_type": "code",
   "execution_count": null,
   "metadata": {},
   "outputs": [],
   "source": [
    "mapa = {\n",
    "    \"home\" : \"principal\",\n",
    "    \"how_it_works\" : \"como_funciona\",\n",
    "    \"contact\" : \"contato\",\n",
    "    \"bought\" : \"comprou\"\n",
    "}\n",
    "dados = dados.rename(columns= mapa) # assim não alteramos a tabela original, mas sim a referencia."
   ]
  },
  {
   "cell_type": "code",
   "execution_count": null,
   "metadata": {},
   "outputs": [],
   "source": [
    "x = dados[[\"principal\", \"como_funciona\", \"contato\"]]\n",
    "y = dados[\"comprou\"] #quando é só uma coluna, não precisa do colchetes extra\n",
    "y.head() # imprimindo só os 5 primeiros"
   ]
  },
  {
   "cell_type": "code",
   "execution_count": null,
   "metadata": {},
   "outputs": [],
   "source": [
    "# Agora vamos ver a quantidade que temos de dados para podermos separar nosso teste do aprendizado, assim não enviezamos nossa máquina.\n",
    "dados.shape\n",
    "\n",
    "# (99, 4) 99 linhas"
   ]
  },
  {
   "cell_type": "code",
   "execution_count": null,
   "metadata": {},
   "outputs": [],
   "source": [
    "treino_x = x[:75]\n",
    "treino_y = y[:75]\n",
    "teste_x = x[75:]\n",
    "teste_y = y[75:]\n",
    "\n",
    "print (\"Treinamos com %d elementos e testaremos com %d elementos\" %(len(treino_x), len(teste_x)))"
   ]
  },
  {
   "cell_type": "code",
   "execution_count": null,
   "metadata": {},
   "outputs": [],
   "source": [
    "from sklearn.svm import LinearSVC\n",
    "from sklearn.metrics import accuracy_score\n",
    "\n",
    "modelo = LinearSVC()\n",
    "modelo.fit (treino_x, treino_y)\n",
    "previsoes = modelo.predict(teste_x)\n",
    "\n",
    "acuracia = accuracy_score(teste_y, previsoes) *100\n",
    "print (\"A acurácia foi %.2f%%\" % acuracia)\n",
    "\n"
   ]
  },
  {
   "cell_type": "markdown",
   "metadata": {},
   "source": [
    "Agora vamos usar o próprio sklearning para fazer a separação de treino e teste\n",
    "pois ele mesmo sabe fazer."
   ]
  },
  {
   "cell_type": "code",
   "execution_count": null,
   "metadata": {},
   "outputs": [],
   "source": [
    "from sklearn.svm import LinearSVC\n",
    "from sklearn.model_selection import train_test_split\n",
    "from sklearn.metrics import accuracy_score\n",
    "\n",
    "train_test_split(x, y, test_size = 0.25)\n",
    "# o amontuado de numeros é equivalente ao espectivo\n",
    "# treino_x, teste_x, treino_y, teste_y\n",
    "# podemos representar como.."
   ]
  },
  {
   "cell_type": "code",
   "execution_count": null,
   "metadata": {},
   "outputs": [],
   "source": [
    "# Problema de usar esse algoritimo é que ele pega aleatório para fazer a separação\n",
    "# podendo assim dar sempre resultado diferente. para arrumar isso a gente\n",
    "# define um número inicial para os algorítmos de geração de números aleatórios.\n",
    "# e para isso nomeamos de semente. \"Seed\" \n",
    "\n",
    "SEED = 20\n",
    "\n",
    "# Assim a gente tira a aleatóriedade, o que garante o mesmo número de treino e teste, podendo replicar o teste mantendo o resultado\n",
    "# A seed é um número que pode ser qualquer um.\n",
    "\n",
    "treino_x, teste_x, treino_y, teste_y = train_test_split(x, y, random_state = SEED, test_size = 0.25)\n",
    "\n",
    "print (treino_x.shape)\n",
    "print (teste_x.shape)\n",
    "\n",
    "print (\"Treinamos com %d elementos e testaremos com %d elementos\" %(len(treino_x), len(teste_x)))\n",
    "\n",
    "modelo = LinearSVC()\n",
    "modelo.fit (treino_x, treino_y)\n",
    "previsoes = modelo.predict(teste_x)\n",
    "\n",
    "acuracia = accuracy_score(teste_y, previsoes) *100\n",
    "print (\"A acurácia foi %.2f%%\" % acuracia) "
   ]
  },
  {
   "cell_type": "code",
   "execution_count": null,
   "metadata": {},
   "outputs": [],
   "source": [
    "print (treino_y.value_counts())\n",
    "print (teste_y.value_counts())\n",
    "\n",
    "# 0    47\n",
    "# 1    27\n",
    "# Name: comprou, dtype: int64\n",
    "# 0    19\n",
    "# 1     6\n",
    "# Name: comprou, dtype: int64\n",
    "\n",
    "\n",
    "# Com isso vemos que não está proporcional as laybels, sendo os dados dizendo ter cerca de\n",
    "# 2 pessoas não comprando para 1 comprando, e no teste temos 3 não comprando para 1 comprando.\n",
    "# Isso se torna arriscado pois se a gente treinar só com algoritmos que não compraram, \n",
    "# nosso algoritmo só vai saber que pessoas não compram, e ele vai chutar para o resto da vida\n",
    "# que pessoas não compram, independente de quantas pessoas comprarem futuramente por que ele nunca aprendeu que\n",
    "# as pessoas compram. Para isso é importante que ele aprenda com proporção e por isso a aleatóriedade é ruim!\n",
    "\n",
    "# Com isso podemos dizer para dele estratificar de acordo com y"
   ]
  },
  {
   "cell_type": "code",
   "execution_count": 24,
   "metadata": {},
   "outputs": [
    {
     "name": "stdout",
     "output_type": "stream",
     "text": [
      "Treinamos com 74 elementos e testaremos com 25 elementos\n",
      "A acurácia foi 96.00%\n",
      "0    49\n",
      "1    25\n",
      "Name: comprou, dtype: int64\n",
      "0    17\n",
      "1     8\n",
      "Name: comprou, dtype: int64\n"
     ]
    }
   ],
   "source": [
    "from sklearn.svm import LinearSVC\n",
    "from sklearn.model_selection import train_test_split\n",
    "from sklearn.metrics import accuracy_score\n",
    "\n",
    "SEED = 20\n",
    "\n",
    "treino_x, teste_x, treino_y, teste_y = train_test_split(x, y,\n",
    "                                                         random_state = SEED, test_size = 0.25,\n",
    "                                                         stratify=y)\n",
    "print (\"Treinamos com %d elementos e testaremos com %d elementos\" %(len(treino_x), len(teste_x)))\n",
    "\n",
    "modelo = LinearSVC()\n",
    "modelo.fit (treino_x, treino_y)\n",
    "previsoes = modelo.predict(teste_x)\n",
    "\n",
    "acuracia = accuracy_score(teste_y, previsoes) *100\n",
    "print (\"A acurácia foi %.2f%%\" % acuracia)\n",
    "\n",
    "print (treino_y.value_counts())\n",
    "print (teste_y.value_counts())\n",
    "\n",
    "# Agora temos uma proporção de 2 pra 1 no teste igual ao treino, isso nos ajudando muito."
   ]
  }
 ],
 "metadata": {
  "interpreter": {
   "hash": "6a0013e91648e03c09f4839024129b7c8c1a157d1cb2aba979d1b99143539f42"
  },
  "kernelspec": {
   "display_name": "Python 3.8.8 64-bit ('base': conda)",
   "language": "python",
   "name": "python3"
  },
  "language_info": {
   "codemirror_mode": {
    "name": "ipython",
    "version": 3
   },
   "file_extension": ".py",
   "mimetype": "text/x-python",
   "name": "python",
   "nbconvert_exporter": "python",
   "pygments_lexer": "ipython3",
   "version": "3.8.8"
  },
  "orig_nbformat": 4
 },
 "nbformat": 4,
 "nbformat_minor": 2
}
